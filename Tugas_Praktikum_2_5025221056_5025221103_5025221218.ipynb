{
  "cells": [
    {
      "cell_type": "markdown",
      "source": [
        "# Komputasi Numerik Kelompok 3\n",
        "## Kelas Komputasi Numerik D\n",
        "\n",
        "\n",
        "*   Amanda Illona Farrel (5025221056)\n",
        "*   Hilmi Fawwaz Sa'ad   (5025221103)\n",
        "*   Ricardo Supriyanto   (5025221218)\n"
      ],
      "metadata": {
        "id": "LjqOW8PZVGxH"
      }
    },
    {
      "cell_type": "markdown",
      "source": [
        "# Soal Praktikum 2\n",
        "\n",
        "Salah satu kelemahan dari metode Trapezoidal adalah kita harus menggunakan jumlah interval yang besar untuk memperoleh akurasi yang diharapkan. Buatlah sebuah program komputer untuk menjelaskan bagaimana metode Integrasi Romberg dapat mengatasi kelemahan tersebut."
      ],
      "metadata": {
        "id": "CH4Fe4gnYPlV"
      }
    },
    {
      "cell_type": "code",
      "source": [
        "import numpy as np\n",
        "import matplotlib.pyplot as plt\n",
        "\n",
        "def f(x):\n",
        "    return x**3 - x - 2  # Contoh fungsi\n",
        "\n",
        "def bisection_method(a, b, tol):\n",
        "    if f(a) * f(b) >= 0:\n",
        "        print(\"Metode bisection gagal.\")\n",
        "        return None\n",
        "\n",
        "    iterations = []\n",
        "    iteration_counter = 0\n",
        "    while (b-a) / 2.0 > tol:\n",
        "        iteration_counter += 1\n",
        "        c = (a + b) / 2.0\n",
        "        iterations.append((iteration_counter, a, b, c, f(c)))\n",
        "\n",
        "        if f(c) == 0:\n",
        "            break\n",
        "        elif f(a) * f(c) < 0:\n",
        "            b = c\n",
        "        else:\n",
        "            a = c\n",
        "\n",
        "    return c, iterations\n",
        "\n",
        "# Parameter\n",
        "a = 1\n",
        "b = 2\n",
        "tol = 1e-5\n",
        "\n",
        "# Temukan akarnya\n",
        "root, iterations = bisection_method(a, b, tol)\n",
        "print(f\"Akar ditemukan: {root:.5f}\\n\")\n",
        "\n",
        "# Menampilkan iterasi\n",
        "print(\"Iterasi |    a      |    b      |    c      |  f(c)     \")\n",
        "print(\"------------------------------------------------------\")\n",
        "for i, a, b, c, fc in iterations:\n",
        "    print(f\"{i:8d} | {a:.6f} | {b:.6f} | {c:.6f} | {fc:.6f}\")\n",
        "\n",
        "# Plot fungsi dan akarnya\n",
        "x = np.linspace(a-1, b+1, 400)\n",
        "y = f(x)\n",
        "\n",
        "plt.plot(x, y, label='f(x)')\n",
        "plt.axhline(0, color='black',linewidth=0.5)\n",
        "plt.axvline(0, color='black',linewidth=0.5)\n",
        "plt.scatter(root, f(root), color='red', label='Akar')\n",
        "plt.legend()\n",
        "plt.title('Metode Bisection')\n",
        "plt.xlabel('x')\n",
        "plt.ylabel('f(x)')\n",
        "plt.grid()\n",
        "plt.show()\n"
      ],
      "metadata": {
        "colab": {
          "base_uri": "https://localhost:8080/",
          "height": 819
        },
        "id": "q9NeEbF6zTWR",
        "outputId": "b5496cc8-f52b-4423-d0c1-655032dcde82"
      },
      "execution_count": null,
      "outputs": [
        {
          "output_type": "stream",
          "name": "stdout",
          "text": [
            "Akar ditemukan: 1.52138\n",
            "\n",
            "Iterasi |    a      |    b      |    c      |  f(c)     \n",
            "------------------------------------------------------\n",
            "       1 | 1.000000 | 2.000000 | 1.500000 | -0.125000\n",
            "       2 | 1.500000 | 2.000000 | 1.750000 | 1.609375\n",
            "       3 | 1.500000 | 1.750000 | 1.625000 | 0.666016\n",
            "       4 | 1.500000 | 1.625000 | 1.562500 | 0.252197\n",
            "       5 | 1.500000 | 1.562500 | 1.531250 | 0.059113\n",
            "       6 | 1.500000 | 1.531250 | 1.515625 | -0.034054\n",
            "       7 | 1.515625 | 1.531250 | 1.523438 | 0.012250\n",
            "       8 | 1.515625 | 1.523438 | 1.519531 | -0.010971\n",
            "       9 | 1.519531 | 1.523438 | 1.521484 | 0.000622\n",
            "      10 | 1.519531 | 1.521484 | 1.520508 | -0.005179\n",
            "      11 | 1.520508 | 1.521484 | 1.520996 | -0.002279\n",
            "      12 | 1.520996 | 1.521484 | 1.521240 | -0.000829\n",
            "      13 | 1.521240 | 1.521484 | 1.521362 | -0.000103\n",
            "      14 | 1.521362 | 1.521484 | 1.521423 | 0.000259\n",
            "      15 | 1.521362 | 1.521423 | 1.521393 | 0.000078\n",
            "      16 | 1.521362 | 1.521393 | 1.521378 | -0.000013\n"
          ]
        },
        {
          "output_type": "display_data",
          "data": {
            "text/plain": [
              "<Figure size 640x480 with 1 Axes>"
            ],
            "image/png": "[encoded data removed]"
          },
          "metadata": {}
        }
      ]
    },
    {
      "cell_type": "code",
      "source": [
        "import numpy as np\n",
        "\n",
        "def f(x):\n",
        "    return np.sin(x)  # Contoh fungsi yang akan diintegrasikan\n",
        "\n",
        "def trapezoidal_rule(f, a, b, n):\n",
        "    h = (b - a) / n\n",
        "    result = 0.5 * (f(a) + f(b))\n",
        "    for i in range(1, n):\n",
        "        result += f(a + i * h)\n",
        "    result *= h\n",
        "    return result\n",
        "\n",
        "def romberg_integration(f, a, b, tol=1e-6):\n",
        "    R = [[0.5 * (b - a) * (f(a) + f(b))]]  # R[0][0] adalah hasil awal metode Trapezoidal\n",
        "    n = 1\n",
        "    k = 0\n",
        "    while True:\n",
        "        n *= 2\n",
        "        h = (b - a) / n\n",
        "        sum_f = sum(f(a + (2 * i - 1) * h) for i in range(1, n // 2 + 1))\n",
        "        R_k1 = 0.5 * R[k][0] + sum_f * h\n",
        "        R.append([R_k1])\n",
        "        for j in range(1, k + 2):\n",
        "            R_kj = R[k + 1][j - 1] + (R[k + 1][j - 1] - R[k][j - 1]) / (4**j - 1)\n",
        "            R[k + 1].append(R_kj)\n",
        "        if abs(R[k + 1][k + 1] - R[k][k]) < tol:\n",
        "            return R, R[k + 1][k + 1]\n",
        "        k += 1\n",
        "\n",
        "# Parameter integrasi\n",
        "a = 0\n",
        "b = np.pi\n",
        "tol = 1e-6\n",
        "\n",
        "# Menghitung integrasi menggunakan metode Romberg\n",
        "R, integral = romberg_integration(f, a, b, tol)\n",
        "print(f\"Nilai integral menggunakan metode Romberg: {integral:.6f}\")\n",
        "\n",
        "# Menampilkan hasil iterasi\n",
        "print(\"\\nTabel Romberg:\")\n",
        "print(\"k |  R[k,0]  |  R[k,1]  |  R[k,2]  |  ...  \")\n",
        "print(\"-----------------------------------------\")\n",
        "for i in range(len(R)):\n",
        "    row = [f\"{R[i][j]:.6f}\" for j in range(len(R[i]))]\n",
        "    print(f\"{i} | \" + \" | \".join(row))\n"
      ],
      "metadata": {
        "colab": {
          "base_uri": "https://localhost:8080/"
        },
        "id": "NxQRKbtI2DPO",
        "outputId": "42690123-b0f5-40e5-fa4e-28f6287e9944"
      },
      "execution_count": null,
      "outputs": [
        {
          "output_type": "stream",
          "name": "stdout",
          "text": [
            "Nilai integral menggunakan metode Romberg: 2.000000\n",
            "\n",
            "Tabel Romberg:\n",
            "k |  R[k,0]  |  R[k,1]  |  R[k,2]  |  ...  \n",
            "-----------------------------------------\n",
            "0 | 0.000000\n",
            "1 | 1.570796 | 2.094395\n",
            "2 | 1.896119 | 2.004560 | 1.998571\n",
            "3 | 1.974232 | 2.000269 | 1.999983 | 2.000006\n",
            "4 | 1.993570 | 2.000017 | 2.000000 | 2.000000 | 2.000000\n",
            "5 | 1.998393 | 2.000001 | 2.000000 | 2.000000 | 2.000000 | 2.000000\n"
          ]
        }
      ]
    }
  ],
  "metadata": {
    "kernelspec": {
      "display_name": "Python 3",
      "name": "python3"
    },
    "language_info": {
      "codemirror_mode": {
        "name": "ipython",
        "version": 3
      },
      "file_extension": ".py",
      "mimetype": "text/x-python",
      "name": "python",
      "nbconvert_exporter": "python",
      "pygments_lexer": "ipython3",
      "version": "3.9.13"
    },
    "colab": {
      "provenance": [],
      "gpuType": "T4"
    },
    "accelerator": "GPU"
  },
  "nbformat": 4,
  "nbformat_minor": 0
}